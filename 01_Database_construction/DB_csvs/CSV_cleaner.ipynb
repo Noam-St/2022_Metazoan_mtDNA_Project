{
 "cells": [
  {
   "cell_type": "code",
   "execution_count": 9,
   "metadata": {},
   "outputs": [],
   "source": [
    "import pandas as pd\n",
    "import re,os\n",
    "from ast import literal_eval"
   ]
  },
  {
   "cell_type": "code",
   "execution_count": 10,
   "metadata": {},
   "outputs": [],
   "source": [
    "def remove_codon(gene_order):\n",
    "    \"\"\" Remove codon annotation from gene name for Distance matrix creation\"\"\"\n",
    "    gene_list2 = []\n",
    "    gene_list = []\n",
    "    for gene in gene_order:\n",
    "        gene = str(gene)\n",
    "        gene=gene.replace('*','')\n",
    "        gene = re.sub(pattern='\\(\\w{3}\\)',repl = '',string = gene)\n",
    "        gene_list2.append(gene.replace('-',''))\n",
    "        counter = gene_list2.count(gene.replace('-',''))\n",
    "        gene = gene+'*'*(counter-1)\n",
    "        gene_list.append(gene)\n",
    "    return gene_list"
   ]
  },
  {
   "cell_type": "code",
   "execution_count": 12,
   "metadata": {},
   "outputs": [
    {
     "name": "stdout",
     "output_type": "stream",
     "text": [
      "<class 'pandas.core.frame.DataFrame'>\n",
      "Index: 9657 entries, Acropora aculeus to Mastigoproctus giganteus\n",
      "Data columns (total 17 columns):\n",
      " #   Column           Non-Null Count  Dtype \n",
      "---  ------           --------------  ----- \n",
      " 0   RefSeq           9657 non-null   object\n",
      " 1   kingdom          9657 non-null   object\n",
      " 2   phylum           9657 non-null   object\n",
      " 3   class            9340 non-null   object\n",
      " 4   order            9610 non-null   object\n",
      " 5   family           9625 non-null   object\n",
      " 6   genus            9653 non-null   object\n",
      " 7   Gene_order       9657 non-null   object\n",
      " 8   Gene_locations   9657 non-null   object\n",
      " 9   Notes            9657 non-null   object\n",
      " 10  tRNA_validation  9657 non-null   object\n",
      " 11  Intron           9657 non-null   bool  \n",
      " 12  Full             9657 non-null   bool  \n",
      " 13  genetic_code     9657 non-null   int64 \n",
      " 14  Haplotype        183 non-null    object\n",
      " 15  topology         9657 non-null   object\n",
      " 16  not_valid        9657 non-null   bool  \n",
      "dtypes: bool(3), int64(1), object(13)\n",
      "memory usage: 1.1+ MB\n"
     ]
    }
   ],
   "source": [
    "\n",
    "work = 'final.csv'\n",
    "check = pd.read_csv(work,index_col=0)\n",
    "check.info()\n",
    "check.Gene_order = check.Gene_order.apply(literal_eval)\n",
    "check.Gene_order = check.Gene_order.apply(remove_codon)\n",
    "\n",
    "check.to_csv('final_nocodons.csv')"
   ]
  },
  {
   "cell_type": "code",
   "execution_count": 13,
   "metadata": {},
   "outputs": [
    {
     "data": {
      "text/plain": [
       "[\"['nad1', 'trnI', '-trnQ', 'trnM', 'nad2', 'trnW', '-trnA', '-trnN', '-trnC', '-trnY', 'cox1', '-trnS(UCN)', 'trnD', 'cox2', 'trnK', 'atp8', 'atp6', 'cox3', 'trnG', 'nad3', 'trnR', 'nad4L', 'nad4', 'trnH', 'trnS(AGY)', 'trnL(CUN)', 'nad5', '-nad6', '-trnE', 'cob', 'trnT', '-trnP', 'trnF', 'rrnS', 'trnV', 'rrnL', 'trnL(UUR)']\"]"
      ]
     },
     "execution_count": 13,
     "metadata": {},
     "output_type": "execute_result"
    }
   ],
   "source": [
    "check[check.RefSeq.str.contains('031807')].Gene_order.to_list()"
   ]
  },
  {
   "cell_type": "code",
   "execution_count": 56,
   "metadata": {},
   "outputs": [
    {
     "name": "stdout",
     "output_type": "stream",
     "text": [
      "RefSeq               object\n",
      "kingdom            category\n",
      "phylum             category\n",
      "class              category\n",
      "order              category\n",
      "family             category\n",
      "genus              category\n",
      "Gene_order           object\n",
      "Gene_locations       object\n",
      "Notes                object\n",
      "tRNA_validation      object\n",
      "Intron                 bool\n",
      "Full                   bool\n",
      "genetic_code          int64\n",
      "Haplotype          category\n",
      "topology           category\n",
      "not_valid              bool\n",
      "dtype: object\n",
      "(9657, 17)\n",
      "eat dick\n",
      "eat dick\n",
      "eat dick\n",
      "eat dick\n"
     ]
    }
   ],
   "source": [
    "check.loc[:,'kingdom':'genus'] = check.loc[:,'kingdom':'genus'].astype('category')\n",
    "check.loc[:,['Haplotype','topology']] = check.loc[:,['Haplotype','topology','genetic_code']].astype('category')\n",
    "print(check.dtypes)\n",
    "print(check.shape)\n",
    "for i in 'Gene_order','Gene_locations','Notes','tRNA_validation':\n",
    "    try:\n",
    "        check[i] = check[i].apply(literal_eval)\n",
    "    except:\n",
    "        print('eat dick')"
   ]
  },
  {
   "cell_type": "markdown",
   "metadata": {},
   "source": [
    "def x(row):\n",
    "    gorder = row['Gene_order']\n",
    "    gloc = row['Gene_locations']\n",
    "    note = row['Notes']\n",
    "    trna = row['tRNA_validation']\n",
    "    l1 = len(gorder)\n",
    "    l2 = len(gloc)\n",
    "    l3 = len(note)\n",
    "    l4 = len(trna)\n",
    "    if (l1 * l2 * l3 * l4) != l1**4:\n",
    "        print(gorder)\n",
    "check.apply(x, axis = 1)"
   ]
  },
  {
   "cell_type": "code",
   "execution_count": 30,
   "metadata": {},
   "outputs": [
    {
     "data": {
      "text/plain": [
       "set()"
      ]
     },
     "execution_count": 30,
     "metadata": {},
     "output_type": "execute_result"
    }
   ],
   "source": [
    "from textwrap import wrap\n",
    "s = 'ACCTTATATGACCAAC'\n",
    "wrap(s,3)\n",
    "A = {'A','B','C'}\n",
    "B = {'A','B','C','D','F'}\n",
    "A.difference(B)"
   ]
  },
  {
   "cell_type": "code",
   "execution_count": 44,
   "metadata": {},
   "outputs": [
    {
     "name": "stdout",
     "output_type": "stream",
     "text": [
      "Cyprinidae\n",
      "Triozidae\n"
     ]
    }
   ],
   "source": [
    "import re\n",
    "from textwrap import wrap\n",
    "def dead(f):\n",
    "    print(f['family'])\n",
    "check[0:2].apply(dead, axis = 1)\n",
    "lis = '123'\n",
    "re.search('[^123]', lis)\n",
    "\n",
    "w = 'ATGTGTTCACCAACACTCATCTTTAGCTCAACCCTCCTAATCATTTTCATTCTTCTAACATACCCCCTTATCGTATCCCTCAACCCCAGCCCTCTTAACAAAAAATGGGCAACCACCCATGTCAAAACCGCAGTTCAAACAGCCTTCTATGCAAGCCTACTCCCCCTTGCAGTATTCTTTGACCAAGGCATGGAAGTCATTACAACTAACTGACATTGAATGAACATTGCCACCTTTGACATTAACATCAGCTTCAAATTTGACCAATACTCAATTATCTTTACACCCGTAGCCCTCTACGTAACTTGGTCAATTTTAGAATTTGCCTCATGGTACATACACTCAGACCCCAACATAAACCGATTCTTCAAATACCTGCTCCTATTCCTGATTGCCATAATTACCCTAGTCACAGCCAACAACATATTTCAGCTGTTCATTGGCTGAGAAGGAGTAGGCATCATATCTTTCCTATTAATCGGGTGATGATACGGACGCGCAGATGCCAACACCGCCGCCTTACAGGCAGTTATTTACAACCGGGTAGGAGATATTGGACTAATTCTTAGCATAGCATGATTTGCAATAAACATAAATACCTGGGAAATTCAACAAATATTCGCCTCCGCCCAAGACAACCAAGCAACCCTGCCACTCATAGGCTTAATCCTAGCCGCCACAGGAAAATCAGCCCAATTCGGCCTCCACCCCTGACTCCCCTCAGCAATAGAAGGTCCAACACCGGTCTCTGCCCTACTACACTCCAGCACCATGGTTGTAGCCGGCATCTTCCTACTCATCCGACTCCACCCCCTAATGGAACATAACCAAATCGCCCTGACAACCTGCCTCTGCCTTGGAGCTACAACTACCCTATTCACCGCTGCCTGTGCCCTGACACAAAATGATATCAAAAAAATTGTAGCCTTTTCCACATCCAGCCAACTAGGCCTAATGATGGTCACCATCGGCTTAAACCAACCCCAACTAGCCTTCCTACACATCTGCACCCACGCATTCTTTAAAGCAATACTGTTCCTATGCTCCGGGTCCATCATCCACAGCCTTAATGATGAGCAAGACATCCGAAAAATAGGAGGCCTCCACACCATGCTCCCACTCACCTCCACTTGCCTCACCATTGGCAGTCTAGCCCTAACCGGGATACCCTTTCTCTCCGGGTTTTTCTCAAAAGACGCCATCATTGAAGCCCTGAACACATCACACCTGAACGCCTGAGCCCTGACCCTAACTCTCATTGCTACCTCCTTCACAGCCGTATACAGCTTCCGAGTTATCTTCTTCGCCTCTATGGGCTCCCCCCGATTCCTCCCCCTATCACCCCTCAATGAAAATAACCCAACAGTAATCAACCCAATCAAACGACTTGCCTGAGGAAGTATCCTGGCCGGACTATTTATCACCTCCAACTTTCTACCAACAAAAACACCAATCATAACCATACCCACAACCCTTAAATTATCCGCACTACTAGTAACGGCCCTAGGATTACTCATAGCCCTGGAACTAACAAGCCTAACAAACAAACAACTAAAAATTACCCCCACAATTCCACTACACAACTTCTCCAACATACTGGGATATTTCCCATCAATTATTCATCGCCTAGCCCCAAAAATCAAACTAAGCCTAGGACAAACCATAGCAACTCACCTAATTGACCAAACATGATTAGAAAAAGTAGGACCAAAAGGAATTACAACCAGCCAGATCCCACTAATCAAAGCCACAAACAACATCCAACAAGGTTTAATCAAWACATHCCTTACAATCTTCTTCCTGACCACCACACTATCAATCCTCCTCATCACACTAA'\n",
    "s = 's'\n",
    "while len(s) < 100:\n",
    "    s+='s'\n",
    "s = {'A':1,'B':2}\n",
    "s = s.update({'C':3})\n",
    "s"
   ]
  }
 ],
 "metadata": {
  "kernelspec": {
   "display_name": "Python 3",
   "language": "python",
   "name": "python3"
  },
  "language_info": {
   "codemirror_mode": {
    "name": "ipython",
    "version": 3
   },
   "file_extension": ".py",
   "mimetype": "text/x-python",
   "name": "python",
   "nbconvert_exporter": "python",
   "pygments_lexer": "ipython3",
   "version": "3.7.1"
  }
 },
 "nbformat": 4,
 "nbformat_minor": 2
}
